{
 "cells": [
  {
   "cell_type": "code",
   "execution_count": 6,
   "metadata": {},
   "outputs": [],
   "source": [
    "import tensorflow as tf\n",
    "\n",
    "from tensorflow.keras.datasets import mnist\n",
    "\n",
    "from tensorflow.keras.models import Sequential\n",
    "from tensorflow.keras.layers import Input, Flatten, Dense, BatchNormalization, Dropout\n",
    "from tensorflow.keras.initializers import GlorotUniform\n",
    "from tensorflow.keras.callbacks import EarlyStopping, TensorBoard\n",
    "\n",
    "from sklearn.model_selection import train_test_split\n",
    "from sklearn.metrics import accuracy_score\n",
    "from sklearn.linear_model import LogisticRegression\n"
   ]
  },
  {
   "cell_type": "code",
   "execution_count": 7,
   "metadata": {},
   "outputs": [],
   "source": [
    "# Step 1: Load and preprocess the data\n",
    "(x_train, y_train), (x_test, y_test) = mnist.load_data()\n",
    "\n",
    "# Normalize the data\n",
    "x_train = x_train / 255.0\n",
    "x_test = x_test / 255.0\n",
    "\n",
    "# Splitting the data into training and validation sets\n",
    "x_train, x_val, y_train, y_val = train_test_split(x_train, y_train, test_size=5000, random_state=42)"
   ]
  },
  {
   "cell_type": "code",
   "execution_count": 8,
   "metadata": {},
   "outputs": [
    {
     "name": "stdout",
     "output_type": "stream",
     "text": [
      "Shape of x_train: (55000, 28, 28)\n",
      "Shape of y_train: (55000,)\n",
      "Shape of x_test: (10000, 28, 28)\n",
      "Shape of y_test: (10000,)\n",
      "Shape of x_val: (5000, 28, 28)\n",
      "Shape of y_val: (5000,)\n"
     ]
    }
   ],
   "source": [
    "print(\"Shape of x_train:\", x_train.shape)\n",
    "print(\"Shape of y_train:\", y_train.shape)\n",
    "print(\"Shape of x_test:\", x_test.shape)\n",
    "print(\"Shape of y_test:\", y_test.shape)\n",
    "print(\"Shape of x_val:\", x_val.shape)\n",
    "print(\"Shape of y_val:\", y_val.shape)"
   ]
  },
  {
   "cell_type": "code",
   "execution_count": 9,
   "metadata": {},
   "outputs": [
    {
     "name": "stdout",
     "output_type": "stream",
     "text": [
      "Epoch 1/100\n"
     ]
    },
    {
     "name": "stderr",
     "output_type": "stream",
     "text": [
      "2024-05-22 14:16:46.717250: W external/local_tsl/tsl/framework/cpu_allocator_impl.cc:83] Allocation of 172480000 exceeds 10% of free system memory.\n"
     ]
    },
    {
     "name": "stdout",
     "output_type": "stream",
     "text": [
      "\u001b[1m1719/1719\u001b[0m \u001b[32m━━━━━━━━━━━━━━━━━━━━\u001b[0m\u001b[37m\u001b[0m \u001b[1m8s\u001b[0m 4ms/step - accuracy: 0.8330 - loss: 0.5583 - val_accuracy: 0.9562 - val_loss: 0.1395\n",
      "Epoch 2/100\n",
      "\u001b[1m1719/1719\u001b[0m \u001b[32m━━━━━━━━━━━━━━━━━━━━\u001b[0m\u001b[37m\u001b[0m \u001b[1m6s\u001b[0m 4ms/step - accuracy: 0.9375 - loss: 0.2005 - val_accuracy: 0.9662 - val_loss: 0.1069\n",
      "Epoch 3/100\n",
      "\u001b[1m1719/1719\u001b[0m \u001b[32m━━━━━━━━━━━━━━━━━━━━\u001b[0m\u001b[37m\u001b[0m \u001b[1m6s\u001b[0m 4ms/step - accuracy: 0.9499 - loss: 0.1649 - val_accuracy: 0.9706 - val_loss: 0.1013\n",
      "Epoch 4/100\n",
      "\u001b[1m1719/1719\u001b[0m \u001b[32m━━━━━━━━━━━━━━━━━━━━\u001b[0m\u001b[37m\u001b[0m \u001b[1m6s\u001b[0m 4ms/step - accuracy: 0.9585 - loss: 0.1382 - val_accuracy: 0.9718 - val_loss: 0.0912\n",
      "Epoch 5/100\n",
      "\u001b[1m1719/1719\u001b[0m \u001b[32m━━━━━━━━━━━━━━━━━━━━\u001b[0m\u001b[37m\u001b[0m \u001b[1m6s\u001b[0m 4ms/step - accuracy: 0.9570 - loss: 0.1371 - val_accuracy: 0.9742 - val_loss: 0.0830\n",
      "Epoch 6/100\n",
      "\u001b[1m1719/1719\u001b[0m \u001b[32m━━━━━━━━━━━━━━━━━━━━\u001b[0m\u001b[37m\u001b[0m \u001b[1m6s\u001b[0m 4ms/step - accuracy: 0.9645 - loss: 0.1188 - val_accuracy: 0.9762 - val_loss: 0.0776\n",
      "Epoch 7/100\n",
      "\u001b[1m1719/1719\u001b[0m \u001b[32m━━━━━━━━━━━━━━━━━━━━\u001b[0m\u001b[37m\u001b[0m \u001b[1m6s\u001b[0m 4ms/step - accuracy: 0.9654 - loss: 0.1110 - val_accuracy: 0.9780 - val_loss: 0.0755\n",
      "Epoch 8/100\n",
      "\u001b[1m1719/1719\u001b[0m \u001b[32m━━━━━━━━━━━━━━━━━━━━\u001b[0m\u001b[37m\u001b[0m \u001b[1m6s\u001b[0m 4ms/step - accuracy: 0.9697 - loss: 0.0990 - val_accuracy: 0.9766 - val_loss: 0.0772\n",
      "Epoch 9/100\n",
      "\u001b[1m1719/1719\u001b[0m \u001b[32m━━━━━━━━━━━━━━━━━━━━\u001b[0m\u001b[37m\u001b[0m \u001b[1m7s\u001b[0m 4ms/step - accuracy: 0.9689 - loss: 0.0954 - val_accuracy: 0.9790 - val_loss: 0.0695\n",
      "Epoch 10/100\n",
      "\u001b[1m1719/1719\u001b[0m \u001b[32m━━━━━━━━━━━━━━━━━━━━\u001b[0m\u001b[37m\u001b[0m \u001b[1m6s\u001b[0m 4ms/step - accuracy: 0.9712 - loss: 0.0907 - val_accuracy: 0.9780 - val_loss: 0.0748\n",
      "Epoch 11/100\n",
      "\u001b[1m1719/1719\u001b[0m \u001b[32m━━━━━━━━━━━━━━━━━━━━\u001b[0m\u001b[37m\u001b[0m \u001b[1m6s\u001b[0m 4ms/step - accuracy: 0.9733 - loss: 0.0848 - val_accuracy: 0.9782 - val_loss: 0.0718\n",
      "Epoch 12/100\n",
      "\u001b[1m1719/1719\u001b[0m \u001b[32m━━━━━━━━━━━━━━━━━━━━\u001b[0m\u001b[37m\u001b[0m \u001b[1m6s\u001b[0m 4ms/step - accuracy: 0.9747 - loss: 0.0828 - val_accuracy: 0.9782 - val_loss: 0.0756\n",
      "\u001b[1m313/313\u001b[0m \u001b[32m━━━━━━━━━━━━━━━━━━━━\u001b[0m\u001b[37m\u001b[0m \u001b[1m0s\u001b[0m 1ms/step - accuracy: 0.9730 - loss: 0.0822\n",
      "Baseline Accuracy: 0.9251\n",
      "Test Accuracy: 0.9764000177383423\n"
     ]
    }
   ],
   "source": [
    "# Step 2: Building the Model\n",
    "model = Sequential()\n",
    "model.add(Input(shape=(28, 28)))\n",
    "model.add(Flatten())\n",
    "model.add(Dense(128, activation='relu', kernel_initializer=GlorotUniform()))\n",
    "model.add(BatchNormalization())\n",
    "model.add(Dropout(0.2))\n",
    "model.add(Dense(64, activation='relu', kernel_initializer=GlorotUniform()))\n",
    "model.add(BatchNormalization())\n",
    "model.add(Dropout(0.2))\n",
    "model.add(Dense(10, activation='softmax'))\n",
    "\n",
    "# Check if the model is a classification model\n",
    "is_classification_model = model.layers[-1].activation == tf.keras.activations.softmax\n",
    "\n",
    "# Step 3: Setting up early stopping\n",
    "early_stopping = EarlyStopping(monitor='val_accuracy', patience=3, restore_best_weights=True)\n",
    "\n",
    "# Step 4: Integrating TensorBoard\n",
    "tensorboard_callback = TensorBoard(log_dir='./logs', histogram_freq=1)\n",
    "\n",
    "# Step 5: Baseline with Logistic Regression\n",
    "logreg = LogisticRegression(max_iter=1000)  # Increased max_iter to avoid convergence warning\n",
    "logreg.fit(x_train.reshape(-1, 28*28), y_train)\n",
    "y_pred = logreg.predict(x_test.reshape(-1, 28*28))\n",
    "baseline_accuracy = accuracy_score(y_test, y_pred)\n",
    "\n",
    "# Training the Model\n",
    "model.compile(optimizer='adam', loss='sparse_categorical_crossentropy', metrics=['accuracy'])\n",
    "model.fit(x_train, y_train, validation_data=(x_val, y_val), callbacks=[early_stopping, tensorboard_callback], epochs=100, batch_size=32)\n",
    "\n",
    "# Evaluating the Model\n",
    "test_loss, test_accuracy = model.evaluate(x_test, y_test)\n",
    "\n",
    "# Printing the Results\n",
    "print(\"Baseline Accuracy:\", baseline_accuracy)\n",
    "print(\"Test Accuracy:\", test_accuracy)"
   ]
  },
  {
   "cell_type": "markdown",
   "metadata": {},
   "source": [
    "Voici une traduction en français du texte en markdown :\n",
    "\n",
    "```markdown\n",
    "Étape 1 : Chargement et prétraitement des données\n",
    "- La fonction `mnist.load_data()` est utilisée pour charger l'ensemble de données MNIST, qui contient des chiffres écrits à la main.\n",
    "- Les données sont divisées en ensembles d'entraînement et de test, avec `x_train` et `y_train` représentant les images d'entrée et leurs étiquettes correspondantes pour l'entraînement, et `x_test` et `y_test` représentant les images d'entrée et leurs étiquettes correspondantes pour les tests.\n",
    "- Les valeurs des pixels des images sont normalisées en les divisant par 255.0, ce qui met les valeurs à l'échelle entre 0 et 1.\n",
    "\n",
    "Étape 2 : Construction du modèle\n",
    "- Le modèle `Sequential` est créé en utilisant `model = Sequential()`.\n",
    "- La forme d'entrée du modèle est définie comme `(28, 28)` en utilisant `Flatten(input_shape=(28, 28))`, ce qui aplatit les images d'entrée 2D en un tableau 1D.\n",
    "- Deux couches entièrement connectées avec 128 et 64 unités, respectivement, sont ajoutées en utilisant des couches `Dense` avec la fonction d'activation `relu`.\n",
    "- Des couches `BatchNormalization` sont ajoutées après chaque couche `Dense` pour normaliser les activations.\n",
    "- Des couches `Dropout` avec un taux de désactivation de 0.2 sont ajoutées après chaque couche `BatchNormalization` pour éviter le surajustement.\n",
    "- La couche de sortie finale avec 10 unités et la fonction d'activation `softmax` est ajoutée en utilisant `Dense(10, activation='softmax')`, car il s'agit d'un problème de classification multi-classes avec 10 classes.\n",
    "\n",
    "Étape 3 : Configuration de l'arrêt précoce\n",
    "- Un rappel `EarlyStopping` est créé avec le paramètre `monitor` défini sur `'val_accuracy'`, ce qui signifie qu'il surveillera la précision de validation.\n",
    "- Le paramètre `patience` est défini sur 3, ce qui signifie que l'entraînement s'arrêtera si la précision de validation n'améliore pas pendant 3 époques consécutives.\n",
    "- Le paramètre `restore_best_weights` est défini sur `True`, ce qui signifie que les poids du modèle seront restaurés aux meilleurs poids trouvés pendant l'entraînement.\n",
    "\n",
    "Étape 4 : Intégration de TensorBoard\n",
    "- Un rappel `TensorBoard` est créé avec le paramètre `log_dir` défini sur `'./logs'`, ce qui spécifie le répertoire où les journaux seront enregistrés.\n",
    "- Le paramètre `histogram_freq` est défini sur 1, ce qui signifie que les histogrammes des poids et des biais du modèle seront calculés et enregistrés à chaque époque.\n",
    "\n",
    "Étape 5 : Baseline avec la régression logistique\n",
    "- Un modèle `LogisticRegression` est créé et entraîné en utilisant les données d'entraînement.\n",
    "- Les tableaux `x_train` et `x_test` sont remodelés en tableaux 2D en utilisant `reshape(-1, 28*28)` pour correspondre à la forme d'entrée attendue par `LogisticRegression`.\n",
    "- La méthode `predict` est utilisée pour effectuer des prédictions sur les données de test, et la précision des prédictions est calculée à l'aide de `accuracy_score` et stockée dans la variable `baseline_accuracy`.\n",
    "\n",
    "Entraînement du modèle\n",
    "- Le modèle est compilé avec l'optimiseur `adam` et la fonction de perte `sparse_categorical_crossentropy`, qui convient aux problèmes de classification multi-classes.\n",
    "- La méthode `fit` est appelée pour entraîner le modèle en utilisant les données d'entraînement.\n",
    "- Les données de validation `(x_val, y_val)` sont utilisées pour surveiller la précision de validation pendant l'entraînement.\n",
    "- Les rappels `early_stopping` et `tensorboard_callback` sont transmis au paramètre `callbacks` pour activer l'arrêt précoce et l'intégration de TensorBoard.\n",
    "- L'entraînement est effectué pendant 10 époques.\n",
    "\n",
    "Évaluation du modèle\n",
    "- La méthode `evaluate` est appelée pour évaluer le modèle entraîné sur les données de test.\n",
    "- La perte de test et la précision de test sont stockées dans les variables `test_loss` et `test_accuracy`, respectivement.\n",
    "\n",
    "Affichage des résultats\n",
    "- La précision de référence et la précision de test sont affichées à l'aide de la fonction `print`.\n",
    "\n",
    "```\n"
   ]
  }
 ],
 "metadata": {
  "kernelspec": {
   "display_name": ".venv",
   "language": "python",
   "name": "python3"
  },
  "language_info": {
   "codemirror_mode": {
    "name": "ipython",
    "version": 3
   },
   "file_extension": ".py",
   "mimetype": "text/x-python",
   "name": "python",
   "nbconvert_exporter": "python",
   "pygments_lexer": "ipython3",
   "version": "3.10.12"
  }
 },
 "nbformat": 4,
 "nbformat_minor": 2
}
